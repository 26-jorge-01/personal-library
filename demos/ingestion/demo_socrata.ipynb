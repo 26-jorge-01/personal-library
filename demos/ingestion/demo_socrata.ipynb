{
 "cells": [
  {
   "cell_type": "markdown",
   "metadata": {},
   "source": [
    "# Demo de Extracción desde Socrata\n",
    "\n",
    "En este notebook se muestra paso a paso cómo utilizar la clase `SocrataDatasetLoader` para extraer datos de Socrata, aplicar validaciones de gobernanza y calidad, y registrar la metadata asociada al proceso. \n",
    "\n",
    "Cada celda está comentada para que puedas entender el propósito y el funcionamiento de cada paso."
   ]
  },
  {
   "cell_type": "markdown",
   "metadata": {},
   "source": [
    "## Librerias"
   ]
  },
  {
   "cell_type": "code",
   "execution_count": 48,
   "metadata": {},
   "outputs": [],
   "source": [
    "# Importamos las librerías y módulos necesarios.\n",
    "import logging\n",
    "import pandas as pd\n",
    "from sodapy import Socrata\n",
    "import sys\n",
    "import json"
   ]
  },
  {
   "cell_type": "markdown",
   "metadata": {},
   "source": [
    "### Configuración del entorno de ejecución"
   ]
  },
  {
   "cell_type": "code",
   "execution_count": 21,
   "metadata": {},
   "outputs": [],
   "source": [
    "from config.notebook_location import find_project_root"
   ]
  },
  {
   "cell_type": "code",
   "execution_count": 23,
   "metadata": {},
   "outputs": [
    {
     "name": "stdout",
     "output_type": "stream",
     "text": [
      "Project root added to sys.path: d:\\Espacios de trabajo\\personal-library\n"
     ]
    }
   ],
   "source": [
    "# Definir el nombre del directorio del proyecto\n",
    "project_name = \"personal-library\"\n",
    "\n",
    "# Encontrar la raíz del proyecto\n",
    "project_root = find_project_root(project_name)\n",
    "\n",
    "# Agregar la raíz del proyecto al principio de sys.path para facilitar las importaciones\n",
    "sys.path.insert(0, project_root)\n",
    "print(\"Project root added to sys.path:\", project_root)"
   ]
  },
  {
   "cell_type": "markdown",
   "metadata": {},
   "source": [
    "### Librerías personales"
   ]
  },
  {
   "cell_type": "code",
   "execution_count": 29,
   "metadata": {},
   "outputs": [],
   "source": [
    "# Importamos las clases definidas en nuestro sistema de ingesta.\n",
    "from ingestion.sources.from_socrata import SocrataDatasetLoader\n",
    "from ingestion.governance.policy_loader import load_policy\n",
    "from ingestion.governance.engine import GovernanceEngine\n",
    "from ingestion.base.metadata_logger import MetadataLogger"
   ]
  },
  {
   "cell_type": "markdown",
   "metadata": {},
   "source": [
    "## Proceso"
   ]
  },
  {
   "cell_type": "code",
   "execution_count": 30,
   "metadata": {},
   "outputs": [],
   "source": [
    "# Configuramos el logging para ver información detallada durante la ejecución.\n",
    "logging.basicConfig(\n",
    "    level=logging.DEBUG,\n",
    "    format=\"%(asctime)s - %(name)s - %(levelname)s - %(message)s\"\n",
    ")"
   ]
  },
  {
   "cell_type": "markdown",
   "metadata": {},
   "source": [
    "**1. Inicialización del Cliente Socrata**\n",
    " \n",
    "Se crea una instancia del cliente de Socrata apuntando al dominio de datos. En este ejemplo, usamos \"www.datos.gov.co\". \n",
    "Si tu dataset requiere autenticación, provee las credenciales necesarias (aquí se usa `None` como placeholder)."
   ]
  },
  {
   "cell_type": "code",
   "execution_count": 31,
   "metadata": {},
   "outputs": [
    {
     "name": "stderr",
     "output_type": "stream",
     "text": [
      "2025-03-21 18:28:46,453 - root - WARNING - Requests made without an app_token will be subject to strict throttling limits.\n"
     ]
    }
   ],
   "source": [
    "# Inicializamos el cliente de Socrata.\n",
    "client = Socrata(\"www.datos.gov.co\", None)"
   ]
  },
  {
   "cell_type": "markdown",
   "metadata": {},
   "source": [
    "**2. Configuración del Loader y Extracción de Datos**\n",
    " \n",
    "Se crea una instancia de `SocrataDatasetLoader` y se utiliza para extraer datos de un dataset específico.\n",
    "- **dataset_code:** Código del dataset en Socrata.\n",
    "- **filters:** Filtros de consulta; en este ejemplo, extraemos registros donde `fecha_de_firma` es mayor o igual a \"2023-01-01\".\n",
    "- **limit:** Número máximo de registros a extraer."
   ]
  },
  {
   "cell_type": "code",
   "execution_count": 32,
   "metadata": {},
   "outputs": [],
   "source": [
    "# Creamos la instancia del loader para Socrata.\n",
    "loader = SocrataDatasetLoader(client)"
   ]
  },
  {
   "cell_type": "code",
   "execution_count": 33,
   "metadata": {},
   "outputs": [],
   "source": [
    "# Definimos los parámetros para la extracción.\n",
    "dataset_code = \"jbjy-vk9h\"  # Código del dataset en Socrata\n",
    "filters = {\"fecha_de_firma\": (\">=\", \"2023-01-01\")}\n",
    "limit = 100"
   ]
  },
  {
   "cell_type": "code",
   "execution_count": 34,
   "metadata": {},
   "outputs": [
    {
     "name": "stderr",
     "output_type": "stream",
     "text": [
      "2025-03-21 18:30:18,812 - ingestion.sources.from_socrata - DEBUG - Executing query: SELECT * WHERE fecha_de_firma >= '2023-01-01' LIMIT 100\n",
      "2025-03-21 18:30:18,822 - urllib3.connectionpool - DEBUG - Starting new HTTPS connection (1): www.datos.gov.co:443\n",
      "2025-03-21 18:30:21,612 - urllib3.connectionpool - DEBUG - https://www.datos.gov.co:443 \"GET /resource/jbjy-vk9h.json?%24query=SELECT+%2A+WHERE+fecha_de_firma+%3E%3D+%272023-01-01%27+LIMIT+100 HTTP/1.1\" 200 None\n",
      "2025-03-21 18:30:21,728 - ingestion.sources.from_socrata - INFO - Loaded 100 rows from dataset jbjy-vk9h\n"
     ]
    }
   ],
   "source": [
    "# Realizamos la carga de datos.\n",
    "df = loader.load_data(dataset_code=dataset_code, filters=filters, limit=limit)"
   ]
  },
  {
   "cell_type": "code",
   "execution_count": 35,
   "metadata": {},
   "outputs": [
    {
     "data": {
      "text/html": [
       "<div>\n",
       "<style scoped>\n",
       "    .dataframe tbody tr th:only-of-type {\n",
       "        vertical-align: middle;\n",
       "    }\n",
       "\n",
       "    .dataframe tbody tr th {\n",
       "        vertical-align: top;\n",
       "    }\n",
       "\n",
       "    .dataframe thead th {\n",
       "        text-align: right;\n",
       "    }\n",
       "</style>\n",
       "<table border=\"1\" class=\"dataframe\">\n",
       "  <thead>\n",
       "    <tr style=\"text-align: right;\">\n",
       "      <th></th>\n",
       "      <th>nombre_entidad</th>\n",
       "      <th>nit_entidad</th>\n",
       "      <th>departamento</th>\n",
       "      <th>ciudad</th>\n",
       "      <th>localizaci_n</th>\n",
       "      <th>orden</th>\n",
       "      <th>sector</th>\n",
       "      <th>rama</th>\n",
       "      <th>entidad_centralizada</th>\n",
       "      <th>proceso_de_compra</th>\n",
       "      <th>...</th>\n",
       "      <th>nombre_ordenador_del_gasto</th>\n",
       "      <th>tipo_de_documento_ordenador_del_gasto</th>\n",
       "      <th>n_mero_de_documento_ordenador_del_gasto</th>\n",
       "      <th>nombre_supervisor</th>\n",
       "      <th>tipo_de_documento_supervisor</th>\n",
       "      <th>n_mero_de_documento_supervisor</th>\n",
       "      <th>nombre_ordenador_de_pago</th>\n",
       "      <th>tipo_de_documento_ordenador_de_pago</th>\n",
       "      <th>n_mero_de_documento_ordenador_de_pago</th>\n",
       "      <th>fecha_de_notificaci_n_de_prorrogaci_n</th>\n",
       "    </tr>\n",
       "  </thead>\n",
       "  <tbody>\n",
       "    <tr>\n",
       "      <th>0</th>\n",
       "      <td>HOSPITAL SAN JUAN DE DIOS DE HONDA ESE</td>\n",
       "      <td>890700666</td>\n",
       "      <td>Tolima</td>\n",
       "      <td>Honda</td>\n",
       "      <td>Colombia,  Tolima ,  Honda</td>\n",
       "      <td>Territorial</td>\n",
       "      <td>Salud y Protección Social</td>\n",
       "      <td>Corporación Autónoma</td>\n",
       "      <td>Descentralizada</td>\n",
       "      <td>CO1.BDOS.3681223</td>\n",
       "      <td>...</td>\n",
       "      <td>MANUEL ALFONSO GONZaLEZ CANTOR</td>\n",
       "      <td>Cédula de Ciudadanía</td>\n",
       "      <td>79393172</td>\n",
       "      <td>MARTHA LUCIA OSORIO RAMIREZ</td>\n",
       "      <td>Cédula de Ciudadanía</td>\n",
       "      <td>38281318</td>\n",
       "      <td>No definido</td>\n",
       "      <td>No definido</td>\n",
       "      <td>No definido</td>\n",
       "      <td>NaN</td>\n",
       "    </tr>\n",
       "    <tr>\n",
       "      <th>1</th>\n",
       "      <td>HOSPITAL DE CASTILLA LA NUEVA EMPRESA SOCIAL D...</td>\n",
       "      <td>900004059</td>\n",
       "      <td>Meta</td>\n",
       "      <td>Castilla La Nueva</td>\n",
       "      <td>Colombia,  Meta ,  Castilla La Nueva</td>\n",
       "      <td>Territorial</td>\n",
       "      <td>Salud y Protección Social</td>\n",
       "      <td>Corporación Autónoma</td>\n",
       "      <td>Descentralizada</td>\n",
       "      <td>CO1.BDOS.3690528</td>\n",
       "      <td>...</td>\n",
       "      <td>ROSA MARIA JIMENEZ BAQUERO</td>\n",
       "      <td>Cédula de Ciudadanía</td>\n",
       "      <td>40370893</td>\n",
       "      <td>LUIS ENRIQUE BARON TELLO</td>\n",
       "      <td>Cédula de Ciudadanía</td>\n",
       "      <td>1121827353</td>\n",
       "      <td>No definido</td>\n",
       "      <td>No definido</td>\n",
       "      <td>No definido</td>\n",
       "      <td>NaN</td>\n",
       "    </tr>\n",
       "    <tr>\n",
       "      <th>2</th>\n",
       "      <td>HOSPITAL SAN JUAN DE DIOS DE HONDA ESE</td>\n",
       "      <td>890700666</td>\n",
       "      <td>Tolima</td>\n",
       "      <td>Honda</td>\n",
       "      <td>Colombia,  Tolima ,  Honda</td>\n",
       "      <td>Territorial</td>\n",
       "      <td>Salud y Protección Social</td>\n",
       "      <td>Corporación Autónoma</td>\n",
       "      <td>Descentralizada</td>\n",
       "      <td>CO1.BDOS.3677624</td>\n",
       "      <td>...</td>\n",
       "      <td>MANUEL ALFONSO GONZaLEZ CANTOR</td>\n",
       "      <td>Cédula de Ciudadanía</td>\n",
       "      <td>79393172</td>\n",
       "      <td>ANGELA MARLEN SALGUERO RAMIREZ</td>\n",
       "      <td>Cédula de Ciudadanía</td>\n",
       "      <td>1110526365</td>\n",
       "      <td>No definido</td>\n",
       "      <td>No definido</td>\n",
       "      <td>No definido</td>\n",
       "      <td>NaN</td>\n",
       "    </tr>\n",
       "    <tr>\n",
       "      <th>3</th>\n",
       "      <td>EMPRESA SOCIAL DEL ESTADO HOSPITAL EL CARMEN 1</td>\n",
       "      <td>8909821018</td>\n",
       "      <td>Antioquia</td>\n",
       "      <td>Amalfi</td>\n",
       "      <td>Colombia,  Antioquia ,  Amalfi</td>\n",
       "      <td>Territorial</td>\n",
       "      <td>Salud y Protección Social</td>\n",
       "      <td>Ejecutivo</td>\n",
       "      <td>Descentralizada</td>\n",
       "      <td>CO1.BDOS.3688365</td>\n",
       "      <td>...</td>\n",
       "      <td>LICINIA DEL CARMEN RAVE BERMUDEZ</td>\n",
       "      <td>Cédula de Ciudadanía</td>\n",
       "      <td>42876516</td>\n",
       "      <td>ANGEL ERNESTO FRANCO HENAO</td>\n",
       "      <td>Cédula de Ciudadanía</td>\n",
       "      <td>70252196</td>\n",
       "      <td>No definido</td>\n",
       "      <td>No definido</td>\n",
       "      <td>No definido</td>\n",
       "      <td>NaN</td>\n",
       "    </tr>\n",
       "    <tr>\n",
       "      <th>4</th>\n",
       "      <td>MUNICIPIO DE ITAGUI</td>\n",
       "      <td>890980093</td>\n",
       "      <td>Antioquia</td>\n",
       "      <td>Itagui</td>\n",
       "      <td>Colombia,  Antioquia ,  Itagui</td>\n",
       "      <td>Territorial</td>\n",
       "      <td>Vivienda, Ciudad y Territorio</td>\n",
       "      <td>Ejecutivo</td>\n",
       "      <td>Centralizada</td>\n",
       "      <td>CO1.BDOS.3671441</td>\n",
       "      <td>...</td>\n",
       "      <td>No definido</td>\n",
       "      <td>No definido</td>\n",
       "      <td>No definido</td>\n",
       "      <td>No definido</td>\n",
       "      <td>No definido</td>\n",
       "      <td>No definido</td>\n",
       "      <td>No definido</td>\n",
       "      <td>No definido</td>\n",
       "      <td>No definido</td>\n",
       "      <td>NaN</td>\n",
       "    </tr>\n",
       "  </tbody>\n",
       "</table>\n",
       "<p>5 rows × 85 columns</p>\n",
       "</div>"
      ],
      "text/plain": [
       "                                      nombre_entidad nit_entidad departamento  \\\n",
       "0             HOSPITAL SAN JUAN DE DIOS DE HONDA ESE   890700666       Tolima   \n",
       "1  HOSPITAL DE CASTILLA LA NUEVA EMPRESA SOCIAL D...   900004059         Meta   \n",
       "2             HOSPITAL SAN JUAN DE DIOS DE HONDA ESE   890700666       Tolima   \n",
       "3     EMPRESA SOCIAL DEL ESTADO HOSPITAL EL CARMEN 1  8909821018    Antioquia   \n",
       "4                                MUNICIPIO DE ITAGUI   890980093    Antioquia   \n",
       "\n",
       "              ciudad                          localizaci_n        orden  \\\n",
       "0              Honda            Colombia,  Tolima ,  Honda  Territorial   \n",
       "1  Castilla La Nueva  Colombia,  Meta ,  Castilla La Nueva  Territorial   \n",
       "2              Honda            Colombia,  Tolima ,  Honda  Territorial   \n",
       "3             Amalfi        Colombia,  Antioquia ,  Amalfi  Territorial   \n",
       "4             Itagui        Colombia,  Antioquia ,  Itagui  Territorial   \n",
       "\n",
       "                          sector                  rama entidad_centralizada  \\\n",
       "0      Salud y Protección Social  Corporación Autónoma      Descentralizada   \n",
       "1      Salud y Protección Social  Corporación Autónoma      Descentralizada   \n",
       "2      Salud y Protección Social  Corporación Autónoma      Descentralizada   \n",
       "3      Salud y Protección Social             Ejecutivo      Descentralizada   \n",
       "4  Vivienda, Ciudad y Territorio             Ejecutivo         Centralizada   \n",
       "\n",
       "  proceso_de_compra  ...        nombre_ordenador_del_gasto  \\\n",
       "0  CO1.BDOS.3681223  ...    MANUEL ALFONSO GONZaLEZ CANTOR   \n",
       "1  CO1.BDOS.3690528  ...        ROSA MARIA JIMENEZ BAQUERO   \n",
       "2  CO1.BDOS.3677624  ...    MANUEL ALFONSO GONZaLEZ CANTOR   \n",
       "3  CO1.BDOS.3688365  ...  LICINIA DEL CARMEN RAVE BERMUDEZ   \n",
       "4  CO1.BDOS.3671441  ...                       No definido   \n",
       "\n",
       "  tipo_de_documento_ordenador_del_gasto  \\\n",
       "0                  Cédula de Ciudadanía   \n",
       "1                  Cédula de Ciudadanía   \n",
       "2                  Cédula de Ciudadanía   \n",
       "3                  Cédula de Ciudadanía   \n",
       "4                           No definido   \n",
       "\n",
       "  n_mero_de_documento_ordenador_del_gasto               nombre_supervisor  \\\n",
       "0                                79393172     MARTHA LUCIA OSORIO RAMIREZ   \n",
       "1                                40370893        LUIS ENRIQUE BARON TELLO   \n",
       "2                                79393172  ANGELA MARLEN SALGUERO RAMIREZ   \n",
       "3                                42876516      ANGEL ERNESTO FRANCO HENAO   \n",
       "4                             No definido                     No definido   \n",
       "\n",
       "  tipo_de_documento_supervisor n_mero_de_documento_supervisor  \\\n",
       "0         Cédula de Ciudadanía                       38281318   \n",
       "1         Cédula de Ciudadanía                     1121827353   \n",
       "2         Cédula de Ciudadanía                     1110526365   \n",
       "3         Cédula de Ciudadanía                       70252196   \n",
       "4                  No definido                    No definido   \n",
       "\n",
       "  nombre_ordenador_de_pago tipo_de_documento_ordenador_de_pago  \\\n",
       "0              No definido                         No definido   \n",
       "1              No definido                         No definido   \n",
       "2              No definido                         No definido   \n",
       "3              No definido                         No definido   \n",
       "4              No definido                         No definido   \n",
       "\n",
       "  n_mero_de_documento_ordenador_de_pago fecha_de_notificaci_n_de_prorrogaci_n  \n",
       "0                           No definido                                   NaN  \n",
       "1                           No definido                                   NaN  \n",
       "2                           No definido                                   NaN  \n",
       "3                           No definido                                   NaN  \n",
       "4                           No definido                                   NaN  \n",
       "\n",
       "[5 rows x 85 columns]"
      ]
     },
     "execution_count": 35,
     "metadata": {},
     "output_type": "execute_result"
    }
   ],
   "source": [
    "# Mostramos las primeras filas del DataFrame extraído.\n",
    "df.head()"
   ]
  },
  {
   "cell_type": "code",
   "execution_count": 47,
   "metadata": {},
   "outputs": [
    {
     "data": {
      "text/plain": [
       "Index(['nombre_entidad', 'nit_entidad', 'departamento', 'ciudad',\n",
       "       'localizaci_n', 'orden', 'sector', 'rama', 'entidad_centralizada',\n",
       "       'proceso_de_compra', 'id_contrato', 'referencia_del_contrato',\n",
       "       'estado_contrato', 'codigo_de_categoria_principal',\n",
       "       'descripcion_del_proceso', 'tipo_de_contrato',\n",
       "       'modalidad_de_contratacion', 'justificacion_modalidad_de',\n",
       "       'fecha_de_firma', 'fecha_de_inicio_del_contrato',\n",
       "       'fecha_de_fin_del_contrato', 'condiciones_de_entrega',\n",
       "       'tipodocproveedor', 'documento_proveedor', 'proveedor_adjudicado',\n",
       "       'es_grupo', 'es_pyme', 'habilita_pago_adelantado', 'liquidaci_n',\n",
       "       'obligaci_n_ambiental', 'obligaciones_postconsumo', 'reversion',\n",
       "       'origen_de_los_recursos', 'destino_gasto', 'valor_del_contrato',\n",
       "       'valor_de_pago_adelantado', 'valor_facturado',\n",
       "       'valor_pendiente_de_pago', 'valor_pagado', 'valor_amortizado',\n",
       "       'valor_pendiente_de', 'valor_pendiente_de_ejecucion', 'estado_bpin',\n",
       "       'c_digo_bpin', 'anno_bpin', 'saldo_cdp', 'saldo_vigencia',\n",
       "       'espostconflicto', 'dias_adicionados', 'puntos_del_acuerdo',\n",
       "       'pilares_del_acuerdo', 'urlproceso', 'nombre_representante_legal',\n",
       "       'nacionalidad_representante_legal', 'domicilio_representante_legal',\n",
       "       'tipo_de_identificaci_n_representante_legal',\n",
       "       'identificaci_n_representante_legal', 'g_nero_representante_legal',\n",
       "       'presupuesto_general_de_la_nacion_pgn',\n",
       "       'sistema_general_de_participaciones', 'sistema_general_de_regal_as',\n",
       "       'recursos_propios_alcald_as_gobernaciones_y_resguardos_ind_genas_',\n",
       "       'recursos_de_credito', 'recursos_propios', 'ultima_actualizacion',\n",
       "       'codigo_entidad', 'codigo_proveedor', 'fecha_inicio_liquidacion',\n",
       "       'fecha_fin_liquidacion', 'objeto_del_contrato', 'duraci_n_del_contrato',\n",
       "       'nombre_del_banco', 'tipo_de_cuenta', 'n_mero_de_cuenta',\n",
       "       'el_contrato_puede_ser_prorrogado', 'nombre_ordenador_del_gasto',\n",
       "       'tipo_de_documento_ordenador_del_gasto',\n",
       "       'n_mero_de_documento_ordenador_del_gasto', 'nombre_supervisor',\n",
       "       'tipo_de_documento_supervisor', 'n_mero_de_documento_supervisor',\n",
       "       'nombre_ordenador_de_pago', 'tipo_de_documento_ordenador_de_pago',\n",
       "       'n_mero_de_documento_ordenador_de_pago',\n",
       "       'fecha_de_notificaci_n_de_prorrogaci_n'],\n",
       "      dtype='object')"
      ]
     },
     "execution_count": 47,
     "metadata": {},
     "output_type": "execute_result"
    }
   ],
   "source": [
    "df.columns"
   ]
  },
  {
   "cell_type": "markdown",
   "metadata": {},
   "source": [
    "**3. Carga de la Política de Gobernanza**\n",
    "\n",
    "La política define las reglas de calidad y gobernabilidad que se aplicarán al dataset.\n",
    "\n",
    "Se carga desde un archivo YAML. Asegúrate de que el archivo `s2_contracts.yaml` exista en la ruta indicada."
   ]
  },
  {
   "cell_type": "code",
   "execution_count": 54,
   "metadata": {},
   "outputs": [
    {
     "name": "stdout",
     "output_type": "stream",
     "text": [
      "Política de Gobernanza Cargada:\n",
      "{\n",
      "    \"required_fields\": [\n",
      "        \"id\",\n",
      "        \"fecha\",\n",
      "        \"total\"\n",
      "    ],\n",
      "    \"expected_types\": {\n",
      "        \"fecha\": \"datetime64\",\n",
      "        \"total\": \"float64\"\n",
      "    },\n",
      "    \"rules\": {\n",
      "        \"total\": {\n",
      "            \"rule\": \"range\",\n",
      "            \"min\": 0,\n",
      "            \"max\": 1000000\n",
      "        },\n",
      "        \"total_2\": \"unique\",\n",
      "        \"descripcion\": {\n",
      "            \"rule\": \"string_length\",\n",
      "            \"min_length\": 5,\n",
      "            \"max_length\": 255\n",
      "        },\n",
      "        \"email\": {\n",
      "            \"rule\": \"regex\",\n",
      "            \"pattern\": \"^[\\\\w\\\\.-]+@[\\\\w\\\\.-]+\\\\.\\\\w+$\"\n",
      "        },\n",
      "        \"campo_importante\": \"not_null\",\n",
      "        \"fecha\": \"not_future\"\n",
      "    },\n",
      "    \"inter_field_rules\": [\n",
      "        {\n",
      "            \"rule\": \"date_order\",\n",
      "            \"fields\": [\n",
      "                \"fecha_inicio\",\n",
      "                \"fecha_fin\"\n",
      "            ]\n",
      "        }\n",
      "    ]\n",
      "}\n"
     ]
    }
   ],
   "source": [
    "# Cargamos la política de gobernanza desde un archivo YAML.\n",
    "policy_path = \"../../ingestion/governance/policies/s2_contracts.yaml\"\n",
    "policy = load_policy(policy_path)\n",
    "\n",
    "# Imprimimos la política cargada para verificar su contenido.\n",
    "print(\"Política de Gobernanza Cargada:\")\n",
    "print(json.dumps(policy, indent=4))"
   ]
  },
  {
   "cell_type": "markdown",
   "metadata": {},
   "source": [
    "**4. Validación del Dataset con el Motor de Gobernanza**\n",
    "\n",
    "Se utiliza la clase `GovernanceEngine` para aplicar las validaciones definidas en la política al DataFrame.\n",
    "\n",
    "Se generan reportes que incluyen errores y advertencias detectadas en la ingesta."
   ]
  },
  {
   "cell_type": "code",
   "execution_count": 45,
   "metadata": {},
   "outputs": [
    {
     "ename": "KeyError",
     "evalue": "'total_2'",
     "output_type": "error",
     "traceback": [
      "\u001b[31m---------------------------------------------------------------------------\u001b[39m",
      "\u001b[31mKeyError\u001b[39m                                  Traceback (most recent call last)",
      "\u001b[36mFile \u001b[39m\u001b[32md:\\Espacios de trabajo\\personal-library\\.venv\\Lib\\site-packages\\pandas\\core\\indexes\\base.py:3805\u001b[39m, in \u001b[36mIndex.get_loc\u001b[39m\u001b[34m(self, key)\u001b[39m\n\u001b[32m   3804\u001b[39m \u001b[38;5;28;01mtry\u001b[39;00m:\n\u001b[32m-> \u001b[39m\u001b[32m3805\u001b[39m     \u001b[38;5;28;01mreturn\u001b[39;00m \u001b[38;5;28;43mself\u001b[39;49m\u001b[43m.\u001b[49m\u001b[43m_engine\u001b[49m\u001b[43m.\u001b[49m\u001b[43mget_loc\u001b[49m\u001b[43m(\u001b[49m\u001b[43mcasted_key\u001b[49m\u001b[43m)\u001b[49m\n\u001b[32m   3806\u001b[39m \u001b[38;5;28;01mexcept\u001b[39;00m \u001b[38;5;167;01mKeyError\u001b[39;00m \u001b[38;5;28;01mas\u001b[39;00m err:\n",
      "\u001b[36mFile \u001b[39m\u001b[32mindex.pyx:167\u001b[39m, in \u001b[36mpandas._libs.index.IndexEngine.get_loc\u001b[39m\u001b[34m()\u001b[39m\n",
      "\u001b[36mFile \u001b[39m\u001b[32mindex.pyx:196\u001b[39m, in \u001b[36mpandas._libs.index.IndexEngine.get_loc\u001b[39m\u001b[34m()\u001b[39m\n",
      "\u001b[36mFile \u001b[39m\u001b[32mpandas\\\\_libs\\\\hashtable_class_helper.pxi:7081\u001b[39m, in \u001b[36mpandas._libs.hashtable.PyObjectHashTable.get_item\u001b[39m\u001b[34m()\u001b[39m\n",
      "\u001b[36mFile \u001b[39m\u001b[32mpandas\\\\_libs\\\\hashtable_class_helper.pxi:7089\u001b[39m, in \u001b[36mpandas._libs.hashtable.PyObjectHashTable.get_item\u001b[39m\u001b[34m()\u001b[39m\n",
      "\u001b[31mKeyError\u001b[39m: 'total_2'",
      "\nThe above exception was the direct cause of the following exception:\n",
      "\u001b[31mKeyError\u001b[39m                                  Traceback (most recent call last)",
      "\u001b[36mCell\u001b[39m\u001b[36m \u001b[39m\u001b[32mIn[45]\u001b[39m\u001b[32m, line 3\u001b[39m\n\u001b[32m      1\u001b[39m \u001b[38;5;66;03m# Creamos el motor de gobernanza y validamos el DataFrame.\u001b[39;00m\n\u001b[32m      2\u001b[39m engine = GovernanceEngine(df, policy)\n\u001b[32m----> \u001b[39m\u001b[32m3\u001b[39m validated_df, report = \u001b[43mengine\u001b[49m\u001b[43m.\u001b[49m\u001b[43mvalidate\u001b[49m\u001b[43m(\u001b[49m\u001b[43m)\u001b[49m\n\u001b[32m      5\u001b[39m \u001b[38;5;66;03m# Imprimimos el reporte de validación.\u001b[39;00m\n\u001b[32m      6\u001b[39m \u001b[38;5;28mprint\u001b[39m(\u001b[33m\"\u001b[39m\u001b[33mReporte de Gobernanza y Validación:\u001b[39m\u001b[33m\"\u001b[39m)\n",
      "\u001b[36mFile \u001b[39m\u001b[32md:\\Espacios de trabajo\\personal-library\\ingestion\\governance\\engine.py:17\u001b[39m, in \u001b[36mGovernanceEngine.validate\u001b[39m\u001b[34m(self)\u001b[39m\n\u001b[32m     15\u001b[39m \u001b[38;5;28mself\u001b[39m._check_required_fields()\n\u001b[32m     16\u001b[39m \u001b[38;5;28mself\u001b[39m._check_types()\n\u001b[32m---> \u001b[39m\u001b[32m17\u001b[39m \u001b[38;5;28;43mself\u001b[39;49m\u001b[43m.\u001b[49m\u001b[43m_apply_rules\u001b[49m\u001b[43m(\u001b[49m\u001b[43m)\u001b[49m\n\u001b[32m     18\u001b[39m \u001b[38;5;28mself\u001b[39m._apply_inter_field_rules()\n\u001b[32m     19\u001b[39m \u001b[38;5;28;01mreturn\u001b[39;00m \u001b[38;5;28mself\u001b[39m.df, \u001b[38;5;28mself\u001b[39m.report\n",
      "\u001b[36mFile \u001b[39m\u001b[32md:\\Espacios de trabajo\\personal-library\\ingestion\\governance\\engine.py:44\u001b[39m, in \u001b[36mGovernanceEngine._apply_rules\u001b[39m\u001b[34m(self)\u001b[39m\n\u001b[32m     42\u001b[39m func = \u001b[38;5;28mgetattr\u001b[39m(rules, \u001b[33mf\u001b[39m\u001b[33m\"\u001b[39m\u001b[33mrule_\u001b[39m\u001b[38;5;132;01m{\u001b[39;00mrule_name\u001b[38;5;132;01m}\u001b[39;00m\u001b[33m\"\u001b[39m, \u001b[38;5;28;01mNone\u001b[39;00m)\n\u001b[32m     43\u001b[39m \u001b[38;5;28;01mif\u001b[39;00m \u001b[38;5;28mcallable\u001b[39m(func):\n\u001b[32m---> \u001b[39m\u001b[32m44\u001b[39m     result = \u001b[43mfunc\u001b[49m\u001b[43m(\u001b[49m\u001b[38;5;28;43mself\u001b[39;49m\u001b[43m.\u001b[49m\u001b[43mdf\u001b[49m\u001b[43m,\u001b[49m\u001b[43m \u001b[49m\u001b[43mfield\u001b[49m\u001b[43m)\u001b[49m\n\u001b[32m     45\u001b[39m     \u001b[38;5;28;01mif\u001b[39;00m result:\n\u001b[32m     46\u001b[39m         \u001b[38;5;28mself\u001b[39m.report[\u001b[33m\"\u001b[39m\u001b[33mwarnings\u001b[39m\u001b[33m\"\u001b[39m].append(result)\n",
      "\u001b[36mFile \u001b[39m\u001b[32md:\\Espacios de trabajo\\personal-library\\ingestion\\governance\\rules.py:28\u001b[39m, in \u001b[36mrule_unique\u001b[39m\u001b[34m(df, field, **params)\u001b[39m\n\u001b[32m     27\u001b[39m \u001b[38;5;28;01mdef\u001b[39;00m\u001b[38;5;250m \u001b[39m\u001b[34mrule_unique\u001b[39m(df: pd.DataFrame, field: \u001b[38;5;28mstr\u001b[39m, **params) -> \u001b[38;5;28mstr\u001b[39m:\n\u001b[32m---> \u001b[39m\u001b[32m28\u001b[39m     \u001b[38;5;28;01mif\u001b[39;00m \u001b[43mdf\u001b[49m\u001b[43m[\u001b[49m\u001b[43mfield\u001b[49m\u001b[43m]\u001b[49m.duplicated().any():\n\u001b[32m     29\u001b[39m         \u001b[38;5;28;01mreturn\u001b[39;00m \u001b[33mf\u001b[39m\u001b[33m\"\u001b[39m\u001b[33mEl campo \u001b[39m\u001b[33m'\u001b[39m\u001b[38;5;132;01m{\u001b[39;00mfield\u001b[38;5;132;01m}\u001b[39;00m\u001b[33m'\u001b[39m\u001b[33m contiene valores duplicados.\u001b[39m\u001b[33m\"\u001b[39m\n\u001b[32m     30\u001b[39m     \u001b[38;5;28;01mreturn\u001b[39;00m \u001b[33m\"\u001b[39m\u001b[33m\"\u001b[39m\n",
      "\u001b[36mFile \u001b[39m\u001b[32md:\\Espacios de trabajo\\personal-library\\.venv\\Lib\\site-packages\\pandas\\core\\frame.py:4102\u001b[39m, in \u001b[36mDataFrame.__getitem__\u001b[39m\u001b[34m(self, key)\u001b[39m\n\u001b[32m   4100\u001b[39m \u001b[38;5;28;01mif\u001b[39;00m \u001b[38;5;28mself\u001b[39m.columns.nlevels > \u001b[32m1\u001b[39m:\n\u001b[32m   4101\u001b[39m     \u001b[38;5;28;01mreturn\u001b[39;00m \u001b[38;5;28mself\u001b[39m._getitem_multilevel(key)\n\u001b[32m-> \u001b[39m\u001b[32m4102\u001b[39m indexer = \u001b[38;5;28;43mself\u001b[39;49m\u001b[43m.\u001b[49m\u001b[43mcolumns\u001b[49m\u001b[43m.\u001b[49m\u001b[43mget_loc\u001b[49m\u001b[43m(\u001b[49m\u001b[43mkey\u001b[49m\u001b[43m)\u001b[49m\n\u001b[32m   4103\u001b[39m \u001b[38;5;28;01mif\u001b[39;00m is_integer(indexer):\n\u001b[32m   4104\u001b[39m     indexer = [indexer]\n",
      "\u001b[36mFile \u001b[39m\u001b[32md:\\Espacios de trabajo\\personal-library\\.venv\\Lib\\site-packages\\pandas\\core\\indexes\\base.py:3812\u001b[39m, in \u001b[36mIndex.get_loc\u001b[39m\u001b[34m(self, key)\u001b[39m\n\u001b[32m   3807\u001b[39m     \u001b[38;5;28;01mif\u001b[39;00m \u001b[38;5;28misinstance\u001b[39m(casted_key, \u001b[38;5;28mslice\u001b[39m) \u001b[38;5;129;01mor\u001b[39;00m (\n\u001b[32m   3808\u001b[39m         \u001b[38;5;28misinstance\u001b[39m(casted_key, abc.Iterable)\n\u001b[32m   3809\u001b[39m         \u001b[38;5;129;01mand\u001b[39;00m \u001b[38;5;28many\u001b[39m(\u001b[38;5;28misinstance\u001b[39m(x, \u001b[38;5;28mslice\u001b[39m) \u001b[38;5;28;01mfor\u001b[39;00m x \u001b[38;5;129;01min\u001b[39;00m casted_key)\n\u001b[32m   3810\u001b[39m     ):\n\u001b[32m   3811\u001b[39m         \u001b[38;5;28;01mraise\u001b[39;00m InvalidIndexError(key)\n\u001b[32m-> \u001b[39m\u001b[32m3812\u001b[39m     \u001b[38;5;28;01mraise\u001b[39;00m \u001b[38;5;167;01mKeyError\u001b[39;00m(key) \u001b[38;5;28;01mfrom\u001b[39;00m\u001b[38;5;250m \u001b[39m\u001b[34;01merr\u001b[39;00m\n\u001b[32m   3813\u001b[39m \u001b[38;5;28;01mexcept\u001b[39;00m \u001b[38;5;167;01mTypeError\u001b[39;00m:\n\u001b[32m   3814\u001b[39m     \u001b[38;5;66;03m# If we have a listlike key, _check_indexing_error will raise\u001b[39;00m\n\u001b[32m   3815\u001b[39m     \u001b[38;5;66;03m#  InvalidIndexError. Otherwise we fall through and re-raise\u001b[39;00m\n\u001b[32m   3816\u001b[39m     \u001b[38;5;66;03m#  the TypeError.\u001b[39;00m\n\u001b[32m   3817\u001b[39m     \u001b[38;5;28mself\u001b[39m._check_indexing_error(key)\n",
      "\u001b[31mKeyError\u001b[39m: 'total_2'"
     ]
    }
   ],
   "source": [
    "# Creamos el motor de gobernanza y validamos el DataFrame.\n",
    "engine = GovernanceEngine(df, policy)\n",
    "validated_df, report = engine.validate()\n",
    "\n",
    "# Imprimimos el reporte de validación.\n",
    "print(\"Reporte de Gobernanza y Validación:\")\n",
    "print(report)"
   ]
  },
  {
   "cell_type": "markdown",
   "metadata": {},
   "source": [
    "**5. Registro de Metadata y Auditoría**\n",
    " \n",
    "Utilizamos la clase `MetadataLogger` para registrar la metadata del proceso de ingesta, incluyendo:\n",
    "\n",
    "- Información del loader (número de filas, estado, filtros aplicados, etc.)\n",
    "\n",
    "- Reporte de gobernanza (errores y advertencias)\n",
    "\n",
    "La metadata se guarda en un archivo Parquet para su posterior auditoría y seguimiento."
   ]
  },
  {
   "cell_type": "code",
   "execution_count": 46,
   "metadata": {},
   "outputs": [
    {
     "ename": "NameError",
     "evalue": "name 'report' is not defined",
     "output_type": "error",
     "traceback": [
      "\u001b[31m---------------------------------------------------------------------------\u001b[39m",
      "\u001b[31mNameError\u001b[39m                                 Traceback (most recent call last)",
      "\u001b[36mCell\u001b[39m\u001b[36m \u001b[39m\u001b[32mIn[46]\u001b[39m\u001b[32m, line 5\u001b[39m\n\u001b[32m      2\u001b[39m metadata_logger = MetadataLogger(report_path=\u001b[33m\"\u001b[39m\u001b[33mreports/demo_socrata.parquet\u001b[39m\u001b[33m\"\u001b[39m)\n\u001b[32m      4\u001b[39m \u001b[38;5;66;03m# Registramos la metadata combinando la información del loader y el reporte de validación.\u001b[39;00m\n\u001b[32m----> \u001b[39m\u001b[32m5\u001b[39m metadata_logger.log({**loader.metadata, **\u001b[43mreport\u001b[49m})\n\u001b[32m      7\u001b[39m \u001b[38;5;66;03m# Guardamos el log en el archivo especificado.\u001b[39;00m\n\u001b[32m      8\u001b[39m metadata_logger.save()\n",
      "\u001b[31mNameError\u001b[39m: name 'report' is not defined"
     ]
    }
   ],
   "source": [
    "# Inicializamos el MetadataLogger.\n",
    "metadata_logger = MetadataLogger(report_path=\"reports/demo_socrata.parquet\")\n",
    "\n",
    "# Registramos la metadata combinando la información del loader y el reporte de validación.\n",
    "metadata_logger.log({**loader.metadata, **report})\n",
    "\n",
    "# Guardamos el log en el archivo especificado.\n",
    "metadata_logger.save()\n",
    "\n",
    "print(\"Metadata registrada y audit log guardado.\")"
   ]
  },
  {
   "cell_type": "markdown",
   "metadata": {},
   "source": [
    "## Conclusión\n",
    " \n",
    "En este demo se ha mostrado:\n",
    "\n",
    "- Cómo inicializar el cliente de Socrata.\n",
    "\n",
    "- Cómo configurar y utilizar el `SocrataDatasetLoader` para extraer datos.\n",
    "\n",
    "- Cómo cargar y aplicar una política de gobernanza a través del `GovernanceEngine`.\n",
    "\n",
    "- Cómo registrar la metadata del proceso de ingesta utilizando `MetadataLogger`.\n",
    "\n",
    "Este flujo modular y bien documentado garantiza la reutilización, calidad y trazabilidad de la ingesta de datos desde Socrata.\n"
   ]
  }
 ],
 "metadata": {
  "kernelspec": {
   "display_name": ".venv",
   "language": "python",
   "name": "python3"
  },
  "language_info": {
   "codemirror_mode": {
    "name": "ipython",
    "version": 3
   },
   "file_extension": ".py",
   "mimetype": "text/x-python",
   "name": "python",
   "nbconvert_exporter": "python",
   "pygments_lexer": "ipython3",
   "version": "3.11.9"
  }
 },
 "nbformat": 4,
 "nbformat_minor": 2
}
